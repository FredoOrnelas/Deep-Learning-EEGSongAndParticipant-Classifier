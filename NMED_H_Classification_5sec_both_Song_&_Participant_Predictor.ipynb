{
  "cells": [
    {
      "cell_type": "markdown",
      "metadata": {
        "id": "view-in-github",
        "colab_type": "text"
      },
      "source": [
        "<a href=\"https://colab.research.google.com/github/FredoOrnelas/EEG-Song-and-Participant-Classifier/blob/main/NMED_H_Classification_5sec_both_Song_%26_Participant_Predictor(CLEAN)%5BGITHUB%5D.ipynb\" target=\"_parent\"><img src=\"https://colab.research.google.com/assets/colab-badge.svg\" alt=\"Open In Colab\"/></a>"
      ]
    },
    {
      "cell_type": "markdown",
      "metadata": {
        "id": "Rw2wM6Teu-dh"
      },
      "source": [
        "# Notebook Description"
      ]
    },
    {
      "cell_type": "markdown",
      "metadata": {
        "id": "UEuSU-KftUEL"
      },
      "source": [
        "This notebook is a two-part project: **Song Classifier & Participant Classifier**. \n",
        "\n",
        "The song classifier is a replication project of Ramirez-Aristizabel et al. 2022 work, however this model had a slightly different architecture which was also used in the participant classifier. The participant classifier was a complimentary project. Both projects classify EEG data by means of a method inpsired by a technique introduced by Ramirez-Aristizabel et al. 2022. "
      ]
    },
    {
      "cell_type": "markdown",
      "metadata": {
        "id": "kIuqvzUCXKTk"
      },
      "source": [
        "# Import Libraries"
      ]
    },
    {
      "cell_type": "markdown",
      "metadata": {
        "id": "hNexIcOUVLyb"
      },
      "source": [
        "Libraries"
      ]
    },
    {
      "cell_type": "code",
      "execution_count": 1,
      "metadata": {
        "id": "Gw9_bwCqnmcD"
      },
      "outputs": [],
      "source": [
        "# Numpy\n",
        "import numpy as np\n",
        "\n",
        "# SciPy\n",
        "import scipy.io\n",
        "\n",
        "# OS\n",
        "import os\n",
        "\n",
        "# Plotting\n",
        "import matplotlib.pyplot as plt\n",
        "\n",
        "# SkLearn\n",
        "from sklearn.utils import shuffle\n",
        "\n",
        "#TensorFlow\n",
        "import tensorflow as tf\n",
        "from tensorflow.keras.utils import to_categorical\n",
        "from tensorflow.keras.layers import Activation\n",
        "from tensorflow.keras.utils import get_custom_objects\n",
        "\n",
        "# Keras\n",
        "import keras\n",
        "from keras import models\n",
        "from keras import layers"
      ]
    },
    {
      "cell_type": "markdown",
      "metadata": {
        "id": "zcq8XcU3VJsq"
      },
      "source": [
        "Mount Google Drive"
      ]
    },
    {
      "cell_type": "code",
      "execution_count": 2,
      "metadata": {
        "colab": {
          "base_uri": "https://localhost:8080/"
        },
        "id": "egkPDRSenwsl",
        "outputId": "481e10ed-9499-44c6-f304-056b663973c3"
      },
      "outputs": [
        {
          "output_type": "stream",
          "name": "stdout",
          "text": [
            "Drive already mounted at /content/gdrive; to attempt to forcibly remount, call drive.mount(\"/content/gdrive\", force_remount=True).\n"
          ]
        }
      ],
      "source": [
        "from google.colab import drive\n",
        "drive.mount(\"my_drive\")"
      ]
    },
    {
      "cell_type": "markdown",
      "metadata": {
        "id": "APtwpDpBVGYv"
      },
      "source": [
        "Mish Activation Function:\n",
        "\n",
        "*This activation function was submitted in 2019, which was not included in Keras when this code notebook was made.*\n",
        "\n",
        "**Code Source:** https://www.kaggle.com/code/imokuri/mish-activation-function/notebook \n",
        "\n",
        "**Paper Citation:** Misra, D. (2019). Mish: A self regularized non-monotonic activation function. arXiv preprint arXiv:1908.08681."
      ]
    },
    {
      "cell_type": "code",
      "execution_count": 3,
      "metadata": {
        "id": "blDWwS_y5Zmp"
      },
      "outputs": [],
      "source": [
        "class Mish(Activation):\n",
        "    def __init__(self, activation, **kwargs):\n",
        "        super(Mish, self).__init__(activation, **kwargs)\n",
        "        self.__name__ = \"Mish\"\n",
        "def mish(inputs):\n",
        "    return inputs * tf.math.tanh(tf.math.softplus(inputs))\n",
        "get_custom_objects().update({\"Mish\": Mish(mish)})"
      ]
    },
    {
      "cell_type": "markdown",
      "metadata": {
        "id": "GiYrT95xm6gw"
      },
      "source": [
        "Align Data Function\n",
        "\n",
        "sometimes files become unordered --> will make sure data content's name is within file"
      ]
    },
    {
      "cell_type": "code",
      "execution_count": 4,
      "metadata": {
        "id": "CokjOevLiQky"
      },
      "outputs": [],
      "source": [
        "def align_data_content_to_file(filename):\n",
        "\n",
        "  if filename == 'song21_a_Imputed.mat':\n",
        "    data = file['data21_a']\n",
        "  elif filename == 'song21_b_Imputed.mat':\n",
        "    data = file['data21_b']\n",
        "  elif filename == 'song22_a_Imputed.mat':\n",
        "    data = file['data22_a']\n",
        "  elif filename == 'song22_b_Imputed.mat':\n",
        "    data = file['data22_b']\n",
        "  elif filename == 'song23_a_Imputed.mat':\n",
        "    data = file['data23_a']\n",
        "  elif filename == 'song23_b_Imputed.mat':\n",
        "    data = file['data23_b']\n",
        "  elif filename == 'song24_a_Imputed.mat':\n",
        "    data = file['data24_a']\n",
        "  elif filename == 'song24_b_Imputed.mat':\n",
        "    data = file['data24_b']\n",
        "\n",
        "  align_data_content_to_file.data = data"
      ]
    },
    {
      "cell_type": "markdown",
      "metadata": {
        "id": "5YQDEd_qXQ6h"
      },
      "source": [
        "# Load Data"
      ]
    },
    {
      "cell_type": "markdown",
      "metadata": {
        "id": "JpLfhzCvVNhM"
      },
      "source": [
        "**About The Data:**\n",
        "\n",
        "Data source: https://exhibits.stanford.edu/data/catalog/sd922db3535 \n",
        "\n",
        "**Authors:** Kaneshiro, Blair, Nguyen, Duc T., Dmochowski, Jacek P., Norcia, Anthony M., and Berger, Jonathan\n",
        "\n",
        "**Description:** The NMED-H dataset contains scalp EEG responses recorded from 48 adults as they heard intact and scrambled versions of full-length vocal works (Hindi pop songs). Sixteen stimuli were included in the experiment: Four songs in four conditions per song. Twelve participants were assigned to each stimulus, and each participant heard their assigned stimuli twice (24 trials total per stimulus). Dense-array EEG was recorded using the Electrical Geodesics, Inc. (EGI) GES 300 platform. Data are published in Matlab format. The dataset contains (1) raw EEG (individual recordings, 97 files), (2) clean EEG (aggregated by stimulus and listen, 32 files), (3) spatially filtered EEG (aggregated by stimulus condition, four files), (4) behavioral responses (grouped by listen, two files), and (5) participant-stimulus assignment file. Items (1) - (3) are compressed in .zip archives (500 MB - 2 GB each); an example file from each archive can be downloaded separately. Items (4) and (5) are < 1 KB each. This dataset can be used in combination with the Naturalistic Music EEG Dataset - Tempo (NMED-T).\n",
        "\n",
        "**Collection:** Stanford Research Data\n",
        "\n",
        "**Date:** 2014 - 2016"
      ]
    },
    {
      "cell_type": "code",
      "execution_count": 5,
      "metadata": {
        "colab": {
          "base_uri": "https://localhost:8080/"
        },
        "id": "JmeMStN0hey3",
        "outputId": "834f62b5-7a56-4954-f9bb-7e1a3cd857a7"
      },
      "outputs": [
        {
          "output_type": "stream",
          "name": "stdout",
          "text": [
            "1 / 8 ... loading song23_a_Imputed.mat\n",
            "2 / 8 ... loading song23_b_Imputed.mat\n",
            "3 / 8 ... loading song24_a_Imputed.mat\n",
            "4 / 8 ... loading song24_b_Imputed.mat\n",
            "5 / 8 ... loading song21_a_Imputed.mat\n",
            "6 / 8 ... loading song21_b_Imputed.mat\n",
            "7 / 8 ... loading song22_b_Imputed.mat\n",
            "8 / 8 ... loading song22_a_Imputed.mat\n",
            "(120528000,) (120528000,) (120528000,)\n"
          ]
        }
      ],
      "source": [
        "# Create array for datasets\n",
        "train_data = []\n",
        "test_data = []\n",
        "val_data = []\n",
        "\n",
        "# Count for Status Update\n",
        "count = 0\n",
        "\n",
        "myPath = '/content/gdrive/My Drive/my_path'\n",
        "\n",
        "# Loop through each file\n",
        "for filename in os.listdir(myPath):\n",
        "\n",
        "  # Status Update\n",
        "  count += 1\n",
        "  print(count, '/ 8', '... loading', filename)\n",
        "\n",
        "  # Load file\n",
        "  file = scipy.io.loadmat(myPath + filename)\n",
        "\n",
        "  # Load data function\n",
        "  align_data_content_to_file(filename)\n",
        "  \n",
        "  #Transpose data\n",
        "  data = np.transpose(align_data_content_to_file.data, (2, 0, 1))\n",
        "  \n",
        "  # Loop through each subject in file\n",
        "  for s in range(12):\n",
        "\n",
        "    # Train Data (≈ 80 sec)\n",
        "    train_data = np.array(np.append(train_data, np.array(np.hsplit(data[s, :, :][:, :10044], 162))))\n",
        "\n",
        "    #Test Data (≈ 80 sec)\n",
        "    test_data = np.array(np.append(test_data, np.array(np.hsplit(data[s, :, :][:, 10045:20089], 162))))\n",
        "\n",
        "    #Val Data (≈ 80 sec)\n",
        "    val_data = np.array(np.append(val_data, np.array(np.hsplit(data[s, :, :][:, 20090:30134], 162))))\n",
        "\n",
        "#Print Shapes\n",
        "print(train_data.shape, test_data.shape, val_data.shape,)\n"
      ]
    },
    {
      "cell_type": "markdown",
      "metadata": {
        "id": "cWiwrF1gXUuR"
      },
      "source": [
        "# Prepare Data"
      ]
    },
    {
      "cell_type": "markdown",
      "metadata": {
        "id": "bevdsO10nHH2"
      },
      "source": [
        "**Method Inspiration:** Ramirez-Aristizabal, A. G., Ebrahimpour, M. K., & Kello, C. T. (2022). Image-based eeg classification of brain responses to song recordings. arXiv preprint arXiv:2202.03265."
      ]
    },
    {
      "cell_type": "markdown",
      "metadata": {
        "id": "VcmA_7gBV9As"
      },
      "source": [
        "Set variables"
      ]
    },
    {
      "cell_type": "code",
      "execution_count": 6,
      "metadata": {
        "id": "H3mB8EPDUoME"
      },
      "outputs": [],
      "source": [
        "# Number of samples in one instance\n",
        "samples = 62\n",
        "\n",
        "# Number of channels of collected EEG data\n",
        "channels = 125\n",
        "\n",
        "# Number of Songs\n",
        "songs = 4\n",
        "\n",
        "# Number of Participants\n",
        "participants = 48"
      ]
    },
    {
      "cell_type": "markdown",
      "metadata": {
        "id": "ygP_64mWXZhr"
      },
      "source": [
        "Split Data into Intervals"
      ]
    },
    {
      "cell_type": "code",
      "execution_count": 7,
      "metadata": {
        "colab": {
          "base_uri": "https://localhost:8080/"
        },
        "id": "Mj9iZAMaUTmd",
        "outputId": "16ca1b22-d852-439c-a9c9-37eb705195b7"
      },
      "outputs": [
        {
          "output_type": "stream",
          "name": "stdout",
          "text": [
            "X Data:  \n",
            " train:  (15552, 125, 62, 1) \n",
            " test:  (15552, 125, 62, 1) \n",
            " val:  (15552, 125, 62, 1)\n"
          ]
        }
      ],
      "source": [
        "# Train data\n",
        "x_train = np.array(np.split(np.array(np.split(train_data,train_data.shape[0]/samples)),(train_data.shape[0]/samples)/channels))\n",
        "x_train = np.array(np.reshape(x_train, (int((train_data.shape[0]/samples)/channels), channels, samples, 1)))\n",
        "\n",
        "#Test Data\n",
        "x_test = np.array(np.split(np.array(np.split(test_data,test_data.shape[0]/samples)),(test_data.shape[0]/samples)/channels))\n",
        "x_test = np.array(np.reshape(x_test, (int((test_data.shape[0]/samples)/channels), channels, samples, 1)))\n",
        "\n",
        "#Val Data\n",
        "x_val = np.array(np.split(np.array(np.split(val_data,val_data.shape[0]/samples)),(val_data.shape[0]/samples)/channels))\n",
        "x_val = np.array(np.reshape(x_val, (int((val_data.shape[0]/samples)/channels), channels, samples, 1)))\n",
        "\n",
        "print('X Data: ', '\\n', 'train: ', x_train.shape, '\\n', 'test: ', x_test.shape, '\\n', 'val: ', x_val.shape)"
      ]
    },
    {
      "cell_type": "markdown",
      "metadata": {
        "id": "hRNkD8xLXdtK"
      },
      "source": [
        "Make Target Data"
      ]
    },
    {
      "cell_type": "code",
      "execution_count": 8,
      "metadata": {
        "colab": {
          "base_uri": "https://localhost:8080/"
        },
        "id": "OX42_kUN53_7",
        "outputId": "fee5efdc-c76a-4d0a-8b5d-8f072991fbde"
      },
      "outputs": [
        {
          "output_type": "stream",
          "name": "stdout",
          "text": [
            "Song:  \n",
            " y_train:  (15552,) \n",
            " y_test:  (15552,) \n",
            " y_val:  (15552,) \n",
            "\n",
            "Participant:  \n",
            " y_train:  (15552,) \n",
            " y_test (15552,) \n",
            " y_val:  (15552,)\n"
          ]
        }
      ],
      "source": [
        "# Songs Target\n",
        "\n",
        "y_train_song = []\n",
        "for i in range (songs):\n",
        "  for h in range (int(x_train.shape[0]/songs)):\n",
        "    y_train_song = np.append(y_train_song, i)\n",
        "\n",
        "y_test_song = []\n",
        "for i in range (songs):\n",
        "  for h in range (int(x_test.shape[0]/songs)):\n",
        "    y_test_song = np.append(y_test_song, i)\n",
        "\n",
        "y_val_song = []\n",
        "for i in range (songs):\n",
        "  for h in range (int(x_val.shape[0]/songs)):\n",
        "    y_val_song = np.append(y_val_song, i)\n",
        "\n",
        "\n",
        "\n",
        "\n",
        "# Participants Target\n",
        "\n",
        "y_train_participants = []\n",
        "for i in range (participants):\n",
        "  for h in range (int(x_train.shape[0]/participants)):\n",
        "    y_train_participants = np.append(y_train_participants, i)\n",
        "\n",
        "y_test_participants = []\n",
        "for i in range (participants):\n",
        "  for h in range (int(x_test.shape[0]/participants)):\n",
        "    y_test_participants = np.append(y_test_participants, i)\n",
        "\n",
        "y_val_participants = []\n",
        "for i in range (participants):\n",
        "  for h in range (int(x_val.shape[0]/participants)):\n",
        "    y_val_participants = np.append(y_val_participants, i)\n",
        "\n",
        "print('Song: ', '\\n', 'y_train: ', y_train_song.shape, '\\n', 'y_test: ', y_test_song.shape, '\\n', 'y_val: ', y_val_song.shape, '\\n')\n",
        "print('Participant: ', '\\n', 'y_train: ', y_train_participants.shape, '\\n', 'y_test', y_test_participants.shape, '\\n', 'y_val: ', y_val_participants.shape)"
      ]
    },
    {
      "cell_type": "markdown",
      "metadata": {
        "id": "9HxkczhRXCB7"
      },
      "source": [
        "One Hot encode"
      ]
    },
    {
      "cell_type": "code",
      "execution_count": 9,
      "metadata": {
        "colab": {
          "base_uri": "https://localhost:8080/"
        },
        "id": "b6F2x00f8kAL",
        "outputId": "3261adcc-003a-4596-a645-b943fdb4d3ec"
      },
      "outputs": [
        {
          "output_type": "stream",
          "name": "stdout",
          "text": [
            "Song:  \n",
            " y_train:  (15552, 4) \n",
            " y_test:  (15552, 4) \n",
            " y_val:  (15552, 4) \n",
            "\n",
            "Participant:  \n",
            " y_train:  (15552, 48) \n",
            " y_test (15552, 48) \n",
            " y_val:  (15552, 48)\n"
          ]
        }
      ],
      "source": [
        "# Song Targets\n",
        "y_train_song = to_categorical(y_train_song, num_classes = 4)\n",
        "y_test_song = to_categorical(y_test_song, num_classes = 4)\n",
        "y_val_song = to_categorical(y_val_song, num_classes = 4)\n",
        "\n",
        "# Participant Targets\n",
        "y_train_participants = to_categorical(y_train_participants, num_classes = 48)\n",
        "y_test_participants = to_categorical(y_test_participants, num_classes = 48)\n",
        "y_val_participants = to_categorical(y_val_participants, num_classes = 48)\n",
        "\n",
        "print('Song: ', '\\n', 'y_train: ', y_train_song.shape, '\\n', 'y_test: ', y_test_song.shape, '\\n', 'y_val: ', y_val_song.shape, '\\n')\n",
        "print('Participant: ', '\\n', 'y_train: ', y_train_participants.shape, '\\n', 'y_test', y_test_participants.shape, '\\n', 'y_val: ', y_val_participants.shape)"
      ]
    },
    {
      "cell_type": "markdown",
      "metadata": {
        "id": "v_q9SzSWXqZg"
      },
      "source": [
        "Shuffle Data w/ random state"
      ]
    },
    {
      "cell_type": "code",
      "execution_count": 10,
      "metadata": {
        "id": "3u-OMUaVD8aR"
      },
      "outputs": [],
      "source": [
        "# Seed\n",
        "seed = 44\n",
        "\n",
        "x_train, y_train_song, y_train_participants  = shuffle (x_train, y_train_song, y_train_participants, random_state = seed)\n",
        "x_test, y_test_song, y_test_participants = shuffle (x_test, y_test_song, y_test_participants, random_state = seed)\n",
        "x_val, y_val_song, y_val_participants = shuffle (x_val, y_val_song, y_val_participants)"
      ]
    },
    {
      "cell_type": "markdown",
      "metadata": {
        "id": "9eYygyZ5d4yU"
      },
      "source": [
        "# Model for Song Predictor"
      ]
    },
    {
      "cell_type": "markdown",
      "metadata": {
        "id": "949_FFyDs5gw"
      },
      "source": [
        "Variables"
      ]
    },
    {
      "cell_type": "code",
      "execution_count": 11,
      "metadata": {
        "id": "uoigcjMGs77o"
      },
      "outputs": [],
      "source": [
        "classify = 4"
      ]
    },
    {
      "cell_type": "markdown",
      "metadata": {
        "id": "PvBs9shDYJ-a"
      },
      "source": [
        "Model Architecture"
      ]
    },
    {
      "cell_type": "code",
      "execution_count": 12,
      "metadata": {
        "colab": {
          "base_uri": "https://localhost:8080/"
        },
        "id": "3zM41p3Td8EL",
        "outputId": "2a307406-7dec-4424-f168-ca549e84d1ae"
      },
      "outputs": [
        {
          "output_type": "stream",
          "name": "stdout",
          "text": [
            "Model: \"Summary\"\n",
            "_________________________________________________________________\n",
            " Layer (type)                Output Shape              Param #   \n",
            "=================================================================\n",
            " Input_Layer (InputLayer)    [(64, 125, 62, 1)]        0         \n",
            "                                                                 \n",
            " Layer1 (Conv2D)             (64, 63, 31, 8)           136       \n",
            "                                                                 \n",
            " dropout (Dropout)           (64, 63, 31, 8)           0         \n",
            "                                                                 \n",
            " Layer2 (Conv2D)             (64, 63, 31, 4)           516       \n",
            "                                                                 \n",
            " dropout_1 (Dropout)         (64, 63, 31, 4)           0         \n",
            "                                                                 \n",
            " Layer3 (Conv2D)             (64, 63, 31, 4)           68        \n",
            "                                                                 \n",
            " dropout_2 (Dropout)         (64, 63, 31, 4)           0         \n",
            "                                                                 \n",
            " Layer4 (Conv2D)             (64, 63, 31, 16)          272       \n",
            "                                                                 \n",
            " dropout_3 (Dropout)         (64, 63, 31, 16)          0         \n",
            "                                                                 \n",
            " flatten (Flatten)           (64, 31248)               0         \n",
            "                                                                 \n",
            " dense (Dense)               (64, 144)                 4499856   \n",
            "                                                                 \n",
            " dropout_4 (Dropout)         (64, 144)                 0         \n",
            "                                                                 \n",
            " dense_1 (Dense)             (64, 26)                  3770      \n",
            "                                                                 \n",
            " dropout_5 (Dropout)         (64, 26)                  0         \n",
            "                                                                 \n",
            " dense_2 (Dense)             (64, 105)                 2835      \n",
            "                                                                 \n",
            " dropout_6 (Dropout)         (64, 105)                 0         \n",
            "                                                                 \n",
            " dense_3 (Dense)             (64, 62)                  6572      \n",
            "                                                                 \n",
            " dropout_7 (Dropout)         (64, 62)                  0         \n",
            "                                                                 \n",
            " dense_4 (Dense)             (64, 145)                 9135      \n",
            "                                                                 \n",
            " Output_Layer (Dense)        (64, 4)                   584       \n",
            "                                                                 \n",
            "=================================================================\n",
            "Total params: 4,523,744\n",
            "Trainable params: 4,523,744\n",
            "Non-trainable params: 0\n",
            "_________________________________________________________________\n"
          ]
        }
      ],
      "source": [
        "input = keras.Input(shape = (125, 62, 1),batch_size=(64), name=\"Input_Layer\")\n",
        "\n",
        "x = layers.Conv2D(kernel_size=(4,4),strides = (2,2), filters=8, activation='Mish',padding=\"same\",name=\"Layer1\")(input)\n",
        "\n",
        "x = layers.Dropout(.27)(x)\n",
        "\n",
        "x = layers.Conv2D(kernel_size=(4,4),strides = (1,1), filters=4, activation='Mish',padding=\"same\",name=\"Layer2\")(x)\n",
        "\n",
        "x = layers.Dropout(.28)(x)\n",
        "\n",
        "x = layers.Conv2D(kernel_size=(2,2),strides = (1,1), filters=4, activation='softmax',padding=\"same\",name=\"Layer3\")(x)\n",
        "\n",
        "x = layers.Dropout(.28)(x)\n",
        "\n",
        "x = layers.Conv2D(kernel_size=(2,2),strides = (1,1), filters=16, activation='Mish',padding=\"same\",name=\"Layer4\")(x)\n",
        "\n",
        "x = layers.Dropout(.31)(x)\n",
        "\n",
        "x = layers.Flatten()(x)\n",
        "\n",
        "x = layers.Dense(144,activation=\"Mish\")(x)\n",
        "\n",
        "x = layers.Dropout(.28)(x)\n",
        "\n",
        "x = layers.Dense(26,activation=\"Mish\")(x)\n",
        "\n",
        "x = layers.Dropout(.3)(x)\n",
        "\n",
        "x = layers.Dense(105,activation=\"sigmoid\")(x)\n",
        "\n",
        "x = layers.Dropout(.3)(x)\n",
        "\n",
        "x = layers.Dense(62,activation=\"Mish\")(x)\n",
        "\n",
        "x = layers.Dropout(.29)(x)\n",
        "\n",
        "x = layers.Dense(145,activation=\"Mish\")(x)\n",
        "\n",
        "x = layers.Dense(classify, activation=\"softmax\", name=\"Output_Layer\")(x)\n",
        "\n",
        "song_classifier = keras.Model(input, x, name=\"Summary\")\n",
        "\n",
        "song_classifier.summary()"
      ]
    },
    {
      "cell_type": "markdown",
      "metadata": {
        "id": "XERc1j2wYMqI"
      },
      "source": [
        "Compile Layers"
      ]
    },
    {
      "cell_type": "code",
      "execution_count": 13,
      "metadata": {
        "id": "EV7acNfheGza"
      },
      "outputs": [],
      "source": [
        "song_classifier.compile(optimizer=tf.keras.optimizers.Adam(learning_rate = 0.001), loss='categorical_crossentropy', metrics=['categorical_accuracy'])"
      ]
    },
    {
      "cell_type": "markdown",
      "metadata": {
        "id": "jRmFusUvYPUQ"
      },
      "source": [
        "Fit Model"
      ]
    },
    {
      "cell_type": "code",
      "execution_count": 14,
      "metadata": {
        "colab": {
          "base_uri": "https://localhost:8080/"
        },
        "id": "DOrLbIRJeJOM",
        "outputId": "18a1ce11-33b7-4375-e014-a1bbe8283eba"
      },
      "outputs": [
        {
          "output_type": "stream",
          "name": "stdout",
          "text": [
            "Epoch 1/35\n",
            "243/243 [==============================] - 115s 469ms/step - loss: 1.3753 - categorical_accuracy: 0.2926 - val_loss: 1.2609 - val_categorical_accuracy: 0.4167\n",
            "Epoch 2/35\n",
            "243/243 [==============================] - 113s 465ms/step - loss: 1.2249 - categorical_accuracy: 0.4481 - val_loss: 1.0422 - val_categorical_accuracy: 0.5641\n",
            "Epoch 3/35\n",
            "243/243 [==============================] - 114s 470ms/step - loss: 1.0264 - categorical_accuracy: 0.5792 - val_loss: 0.8159 - val_categorical_accuracy: 0.6705\n",
            "Epoch 4/35\n",
            "243/243 [==============================] - 113s 467ms/step - loss: 0.8048 - categorical_accuracy: 0.6954 - val_loss: 0.5869 - val_categorical_accuracy: 0.7831\n",
            "Epoch 5/35\n",
            "243/243 [==============================] - 113s 466ms/step - loss: 0.6232 - categorical_accuracy: 0.7775 - val_loss: 0.3944 - val_categorical_accuracy: 0.8634\n",
            "Epoch 6/35\n",
            "243/243 [==============================] - 113s 464ms/step - loss: 0.4871 - categorical_accuracy: 0.8337 - val_loss: 0.3396 - val_categorical_accuracy: 0.8872\n",
            "Epoch 7/35\n",
            "243/243 [==============================] - 113s 465ms/step - loss: 0.3821 - categorical_accuracy: 0.8712 - val_loss: 0.2752 - val_categorical_accuracy: 0.9079\n",
            "Epoch 8/35\n",
            "243/243 [==============================] - 113s 466ms/step - loss: 0.3125 - categorical_accuracy: 0.8985 - val_loss: 0.1826 - val_categorical_accuracy: 0.9433\n",
            "Epoch 9/35\n",
            "243/243 [==============================] - 113s 466ms/step - loss: 0.2613 - categorical_accuracy: 0.9205 - val_loss: 0.1488 - val_categorical_accuracy: 0.9527\n",
            "Epoch 10/35\n",
            "243/243 [==============================] - 113s 465ms/step - loss: 0.2130 - categorical_accuracy: 0.9345 - val_loss: 0.1281 - val_categorical_accuracy: 0.9612\n",
            "Epoch 11/35\n",
            "243/243 [==============================] - 113s 465ms/step - loss: 0.1885 - categorical_accuracy: 0.9433 - val_loss: 0.1341 - val_categorical_accuracy: 0.9582\n",
            "Epoch 12/35\n",
            "243/243 [==============================] - 113s 467ms/step - loss: 0.1743 - categorical_accuracy: 0.9487 - val_loss: 0.0982 - val_categorical_accuracy: 0.9701\n",
            "Epoch 13/35\n",
            "243/243 [==============================] - 113s 464ms/step - loss: 0.1563 - categorical_accuracy: 0.9545 - val_loss: 0.0893 - val_categorical_accuracy: 0.9731\n",
            "Epoch 14/35\n",
            "243/243 [==============================] - 113s 465ms/step - loss: 0.1389 - categorical_accuracy: 0.9587 - val_loss: 0.0948 - val_categorical_accuracy: 0.9702\n",
            "Epoch 15/35\n",
            "243/243 [==============================] - 113s 465ms/step - loss: 0.1324 - categorical_accuracy: 0.9610 - val_loss: 0.1018 - val_categorical_accuracy: 0.9688\n",
            "Epoch 16/35\n",
            "243/243 [==============================] - 116s 478ms/step - loss: 0.1223 - categorical_accuracy: 0.9651 - val_loss: 0.0852 - val_categorical_accuracy: 0.9750\n",
            "Epoch 17/35\n",
            "243/243 [==============================] - 115s 474ms/step - loss: 0.1126 - categorical_accuracy: 0.9671 - val_loss: 0.0823 - val_categorical_accuracy: 0.9781\n",
            "Epoch 18/35\n",
            "243/243 [==============================] - 113s 465ms/step - loss: 0.1052 - categorical_accuracy: 0.9710 - val_loss: 0.0870 - val_categorical_accuracy: 0.9761\n",
            "Epoch 19/35\n",
            "243/243 [==============================] - 115s 474ms/step - loss: 0.0938 - categorical_accuracy: 0.9736 - val_loss: 0.0818 - val_categorical_accuracy: 0.9776\n",
            "Epoch 20/35\n",
            "243/243 [==============================] - 113s 465ms/step - loss: 0.0903 - categorical_accuracy: 0.9743 - val_loss: 0.0798 - val_categorical_accuracy: 0.9780\n",
            "Epoch 21/35\n",
            "243/243 [==============================] - 116s 479ms/step - loss: 0.0858 - categorical_accuracy: 0.9757 - val_loss: 0.0734 - val_categorical_accuracy: 0.9794\n",
            "Epoch 22/35\n",
            "243/243 [==============================] - 113s 467ms/step - loss: 0.0828 - categorical_accuracy: 0.9766 - val_loss: 0.0707 - val_categorical_accuracy: 0.9807\n",
            "Epoch 23/35\n",
            "243/243 [==============================] - 115s 474ms/step - loss: 0.0794 - categorical_accuracy: 0.9775 - val_loss: 0.0627 - val_categorical_accuracy: 0.9821\n",
            "Epoch 24/35\n",
            "243/243 [==============================] - 113s 467ms/step - loss: 0.0676 - categorical_accuracy: 0.9819 - val_loss: 0.0752 - val_categorical_accuracy: 0.9811\n",
            "Epoch 25/35\n",
            "243/243 [==============================] - 113s 465ms/step - loss: 0.0712 - categorical_accuracy: 0.9810 - val_loss: 0.0689 - val_categorical_accuracy: 0.9808\n",
            "Epoch 26/35\n",
            "243/243 [==============================] - 112s 463ms/step - loss: 0.0688 - categorical_accuracy: 0.9816 - val_loss: 0.0606 - val_categorical_accuracy: 0.9842\n",
            "Epoch 27/35\n",
            "243/243 [==============================] - 113s 465ms/step - loss: 0.0706 - categorical_accuracy: 0.9807 - val_loss: 0.0591 - val_categorical_accuracy: 0.9837\n",
            "Epoch 28/35\n",
            "243/243 [==============================] - 113s 466ms/step - loss: 0.0664 - categorical_accuracy: 0.9817 - val_loss: 0.0799 - val_categorical_accuracy: 0.9781\n",
            "Epoch 29/35\n",
            "243/243 [==============================] - 113s 466ms/step - loss: 0.0615 - categorical_accuracy: 0.9828 - val_loss: 0.0526 - val_categorical_accuracy: 0.9853\n",
            "Epoch 30/35\n",
            "243/243 [==============================] - 113s 465ms/step - loss: 0.0696 - categorical_accuracy: 0.9800 - val_loss: 0.0748 - val_categorical_accuracy: 0.9810\n",
            "Epoch 31/35\n",
            "243/243 [==============================] - 113s 467ms/step - loss: 0.0485 - categorical_accuracy: 0.9868 - val_loss: 0.0603 - val_categorical_accuracy: 0.9853\n",
            "Epoch 32/35\n",
            "243/243 [==============================] - 113s 466ms/step - loss: 0.0527 - categorical_accuracy: 0.9853 - val_loss: 0.0567 - val_categorical_accuracy: 0.9841\n",
            "Epoch 33/35\n",
            "243/243 [==============================] - 113s 465ms/step - loss: 0.0529 - categorical_accuracy: 0.9853 - val_loss: 0.0481 - val_categorical_accuracy: 0.9870\n",
            "Epoch 34/35\n",
            "243/243 [==============================] - 113s 465ms/step - loss: 0.0530 - categorical_accuracy: 0.9853 - val_loss: 0.0579 - val_categorical_accuracy: 0.9847\n",
            "Epoch 35/35\n",
            "243/243 [==============================] - 113s 467ms/step - loss: 0.0514 - categorical_accuracy: 0.9863 - val_loss: 0.0840 - val_categorical_accuracy: 0.9823\n"
          ]
        }
      ],
      "source": [
        "history = song_classifier.fit(x=x_train, y=y_train_song, batch_size=64, epochs=35, validation_data = (x_val, y_val_song))"
      ]
    },
    {
      "cell_type": "markdown",
      "metadata": {
        "id": "DMH7k6GTYReE"
      },
      "source": [
        "Test Model"
      ]
    },
    {
      "cell_type": "code",
      "execution_count": 15,
      "metadata": {
        "colab": {
          "base_uri": "https://localhost:8080/"
        },
        "id": "eM61XX1ceM7G",
        "outputId": "4068910e-371d-4f89-9f22-3a8fd41f86b7"
      },
      "outputs": [
        {
          "output_type": "stream",
          "name": "stdout",
          "text": [
            "243/243 [==============================] - 30s 122ms/step - loss: 0.0504 - categorical_accuracy: 0.9882\n",
            "Test Results \n",
            " Test Accuarcy:  0.9881687164306641 \n",
            " Test Loss:  0.05043453350663185\n"
          ]
        }
      ],
      "source": [
        "test_loss, test_acc = song_classifier.evaluate(x_test, y_test_song, batch_size= 64)\n",
        "print('Test Results', '\\n', 'Test Accuarcy: ',test_acc,'\\n', 'Test Loss: ', test_loss)"
      ]
    },
    {
      "cell_type": "markdown",
      "metadata": {
        "id": "qL2CCUBcYS_R"
      },
      "source": [
        "Visualize Performance"
      ]
    },
    {
      "cell_type": "code",
      "execution_count": 16,
      "metadata": {
        "colab": {
          "base_uri": "https://localhost:8080/",
          "height": 296
        },
        "id": "8BATGtARnfQR",
        "outputId": "42db717a-ab3e-4fb2-a6ca-67e709482c0d"
      },
      "outputs": [
        {
          "output_type": "display_data",
          "data": {
            "text/plain": [
              "<Figure size 432x288 with 1 Axes>"
            ],
            "image/png": "[encoded data removed]"
          },
          "metadata": {
            "needs_background": "light"
          }
        }
      ],
      "source": [
        "# Training vs Validation loss\n",
        "plt.plot(history.history['loss'])\n",
        "plt.plot(history.history['val_loss'])\n",
        "plt.title('Song Predictor Training vs Validation Loss')\n",
        "plt.ylabel('Loss')\n",
        "plt.xlabel('Epoch')\n",
        "plt.legend(['train', 'validation'], loc='upper left')\n",
        "plt.show()"
      ]
    },
    {
      "cell_type": "markdown",
      "metadata": {
        "id": "ln1pUSZPrplO"
      },
      "source": [
        "# Model for Participant Predictor"
      ]
    },
    {
      "cell_type": "markdown",
      "metadata": {
        "id": "20H_MTRku7gL"
      },
      "source": [
        "Variables"
      ]
    },
    {
      "cell_type": "code",
      "execution_count": 17,
      "metadata": {
        "id": "_SRZR1-4uBkD"
      },
      "outputs": [],
      "source": [
        "classify = 48"
      ]
    },
    {
      "cell_type": "markdown",
      "metadata": {
        "id": "Ik9-KRQUu5gp"
      },
      "source": [
        "Model Architeture"
      ]
    },
    {
      "cell_type": "code",
      "execution_count": 18,
      "metadata": {
        "colab": {
          "base_uri": "https://localhost:8080/"
        },
        "id": "vVntzqV4u30k",
        "outputId": "410371fb-6b12-493d-dea0-e4b5ab0119bb"
      },
      "outputs": [
        {
          "output_type": "stream",
          "name": "stdout",
          "text": [
            "Model: \"Summary\"\n",
            "_________________________________________________________________\n",
            " Layer (type)                Output Shape              Param #   \n",
            "=================================================================\n",
            " Input_Layer (InputLayer)    [(64, 125, 62, 1)]        0         \n",
            "                                                                 \n",
            " Layer1 (Conv2D)             (64, 63, 31, 8)           136       \n",
            "                                                                 \n",
            " Layer2 (Conv2D)             (64, 63, 31, 4)           516       \n",
            "                                                                 \n",
            " Layer3 (Conv2D)             (64, 63, 31, 4)           68        \n",
            "                                                                 \n",
            " dropout_8 (Dropout)         (64, 63, 31, 4)           0         \n",
            "                                                                 \n",
            " Layer4 (Conv2D)             (64, 63, 31, 16)          272       \n",
            "                                                                 \n",
            " dropout_9 (Dropout)         (64, 63, 31, 16)          0         \n",
            "                                                                 \n",
            " flatten_1 (Flatten)         (64, 31248)               0         \n",
            "                                                                 \n",
            " dense_5 (Dense)             (64, 144)                 4499856   \n",
            "                                                                 \n",
            " dense_6 (Dense)             (64, 26)                  3770      \n",
            "                                                                 \n",
            " dropout_10 (Dropout)        (64, 26)                  0         \n",
            "                                                                 \n",
            " dense_7 (Dense)             (64, 105)                 2835      \n",
            "                                                                 \n",
            " dropout_11 (Dropout)        (64, 105)                 0         \n",
            "                                                                 \n",
            " dense_8 (Dense)             (64, 62)                  6572      \n",
            "                                                                 \n",
            " dropout_12 (Dropout)        (64, 62)                  0         \n",
            "                                                                 \n",
            " dense_9 (Dense)             (64, 145)                 9135      \n",
            "                                                                 \n",
            " Output_Layer (Dense)        (64, 48)                  7008      \n",
            "                                                                 \n",
            "=================================================================\n",
            "Total params: 4,530,168\n",
            "Trainable params: 4,530,168\n",
            "Non-trainable params: 0\n",
            "_________________________________________________________________\n"
          ]
        }
      ],
      "source": [
        "input = keras.Input(shape = (125, 62, 1),batch_size=(64), name=\"Input_Layer\")\n",
        "\n",
        "x = layers.Conv2D(kernel_size=(4,4),strides = (2,2), filters=8, activation='Mish',padding=\"same\",name=\"Layer1\")(input)\n",
        "\n",
        "x = layers.Conv2D(kernel_size=(4,4),strides = (1,1), filters=4, activation='Mish',padding=\"same\",name=\"Layer2\")(x)\n",
        "\n",
        "x = layers.Conv2D(kernel_size=(2,2),strides = (1,1), filters=4, activation='softmax',padding=\"same\",name=\"Layer3\")(x)\n",
        "\n",
        "x = layers.Dropout(.25)(x)\n",
        "\n",
        "x = layers.Conv2D(kernel_size=(2,2),strides = (1,1), filters=16, activation='Mish',padding=\"same\",name=\"Layer4\")(x)\n",
        "\n",
        "x = layers.Dropout(.25)(x)\n",
        "\n",
        "x = layers.Flatten()(x)\n",
        "\n",
        "x = layers.Dense(144,activation=\"Mish\")(x)\n",
        "\n",
        "x = layers.Dense(26,activation=\"Mish\")(x)\n",
        "\n",
        "x = layers.Dropout(.26)(x)\n",
        "\n",
        "x = layers.Dense(105,activation=\"sigmoid\")(x)\n",
        "\n",
        "x = layers.Dropout(.25)(x)\n",
        "\n",
        "x = layers.Dense(62,activation=\"Mish\")(x)\n",
        "\n",
        "x = layers.Dropout(.25)(x)\n",
        "\n",
        "x = layers.Dense(145,activation=\"Mish\")(x)\n",
        "\n",
        "x = layers.Dense(classify, activation=\"softmax\", name=\"Output_Layer\")(x)\n",
        "\n",
        "participant_classifier = keras.Model(input, x, name=\"Summary\")\n",
        "\n",
        "participant_classifier.summary()"
      ]
    },
    {
      "cell_type": "markdown",
      "metadata": {
        "id": "YpCzSZsjhw9J"
      },
      "source": [
        "Compile Layers"
      ]
    },
    {
      "cell_type": "code",
      "execution_count": 19,
      "metadata": {
        "id": "t-F95u2tuAdQ"
      },
      "outputs": [],
      "source": [
        "participant_classifier.compile(optimizer=tf.keras.optimizers.Adam(learning_rate = 0.001), loss='categorical_crossentropy', metrics=['categorical_accuracy'])"
      ]
    },
    {
      "cell_type": "markdown",
      "metadata": {
        "id": "yhgi5N4Nhylj"
      },
      "source": [
        "Fit Model"
      ]
    },
    {
      "cell_type": "code",
      "execution_count": 20,
      "metadata": {
        "colab": {
          "base_uri": "https://localhost:8080/"
        },
        "id": "ejDdxBRmrsN2",
        "outputId": "93004b37-f9aa-48dc-d9ea-b3c159f15c6f"
      },
      "outputs": [
        {
          "output_type": "stream",
          "name": "stdout",
          "text": [
            "Epoch 1/25\n",
            "243/243 [==============================] - 112s 459ms/step - loss: 3.7764 - categorical_accuracy: 0.0393 - val_loss: 3.4156 - val_categorical_accuracy: 0.0840\n",
            "Epoch 2/25\n",
            "243/243 [==============================] - 110s 452ms/step - loss: 2.9922 - categorical_accuracy: 0.1467 - val_loss: 2.3478 - val_categorical_accuracy: 0.2586\n",
            "Epoch 3/25\n",
            "243/243 [==============================] - 110s 453ms/step - loss: 2.1408 - categorical_accuracy: 0.3043 - val_loss: 1.6863 - val_categorical_accuracy: 0.4255\n",
            "Epoch 4/25\n",
            "243/243 [==============================] - 110s 452ms/step - loss: 1.6403 - categorical_accuracy: 0.4216 - val_loss: 1.3437 - val_categorical_accuracy: 0.5422\n",
            "Epoch 5/25\n",
            "243/243 [==============================] - 110s 452ms/step - loss: 1.3016 - categorical_accuracy: 0.5138 - val_loss: 1.1608 - val_categorical_accuracy: 0.6220\n",
            "Epoch 6/25\n",
            "243/243 [==============================] - 110s 453ms/step - loss: 1.0989 - categorical_accuracy: 0.5787 - val_loss: 0.9582 - val_categorical_accuracy: 0.6759\n",
            "Epoch 7/25\n",
            "243/243 [==============================] - 110s 452ms/step - loss: 0.9403 - categorical_accuracy: 0.6364 - val_loss: 0.9706 - val_categorical_accuracy: 0.7007\n",
            "Epoch 8/25\n",
            "243/243 [==============================] - 110s 451ms/step - loss: 0.8284 - categorical_accuracy: 0.6751 - val_loss: 0.8385 - val_categorical_accuracy: 0.7269\n",
            "Epoch 9/25\n",
            "243/243 [==============================] - 110s 451ms/step - loss: 0.7471 - categorical_accuracy: 0.7032 - val_loss: 0.8578 - val_categorical_accuracy: 0.7602\n",
            "Epoch 10/25\n",
            "243/243 [==============================] - 110s 452ms/step - loss: 0.6794 - categorical_accuracy: 0.7425 - val_loss: 0.7820 - val_categorical_accuracy: 0.7667\n",
            "Epoch 11/25\n",
            "243/243 [==============================] - 110s 452ms/step - loss: 0.6091 - categorical_accuracy: 0.7636 - val_loss: 0.8726 - val_categorical_accuracy: 0.7646\n",
            "Epoch 12/25\n",
            "243/243 [==============================] - 110s 453ms/step - loss: 0.5649 - categorical_accuracy: 0.7876 - val_loss: 0.8687 - val_categorical_accuracy: 0.7901\n",
            "Epoch 13/25\n",
            "243/243 [==============================] - 110s 452ms/step - loss: 0.5139 - categorical_accuracy: 0.8122 - val_loss: 0.7758 - val_categorical_accuracy: 0.8148\n",
            "Epoch 14/25\n",
            "243/243 [==============================] - 110s 452ms/step - loss: 0.4775 - categorical_accuracy: 0.8298 - val_loss: 0.8026 - val_categorical_accuracy: 0.8168\n",
            "Epoch 15/25\n",
            "243/243 [==============================] - 117s 483ms/step - loss: 0.4261 - categorical_accuracy: 0.8515 - val_loss: 0.7483 - val_categorical_accuracy: 0.8400\n",
            "Epoch 16/25\n",
            "243/243 [==============================] - 110s 451ms/step - loss: 0.4143 - categorical_accuracy: 0.8575 - val_loss: 0.7304 - val_categorical_accuracy: 0.8296\n",
            "Epoch 17/25\n",
            "243/243 [==============================] - 110s 452ms/step - loss: 0.3683 - categorical_accuracy: 0.8769 - val_loss: 0.7090 - val_categorical_accuracy: 0.8546\n",
            "Epoch 18/25\n",
            "243/243 [==============================] - 110s 453ms/step - loss: 0.3418 - categorical_accuracy: 0.8877 - val_loss: 0.7935 - val_categorical_accuracy: 0.8499\n",
            "Epoch 19/25\n",
            "243/243 [==============================] - 110s 452ms/step - loss: 0.3506 - categorical_accuracy: 0.8897 - val_loss: 0.7535 - val_categorical_accuracy: 0.8576\n",
            "Epoch 20/25\n",
            "243/243 [==============================] - 110s 452ms/step - loss: 0.3160 - categorical_accuracy: 0.9014 - val_loss: 0.6858 - val_categorical_accuracy: 0.8749\n",
            "Epoch 21/25\n",
            "243/243 [==============================] - 110s 452ms/step - loss: 0.2973 - categorical_accuracy: 0.9118 - val_loss: 0.6526 - val_categorical_accuracy: 0.8763\n",
            "Epoch 22/25\n",
            "243/243 [==============================] - 110s 451ms/step - loss: 0.2755 - categorical_accuracy: 0.9167 - val_loss: 0.7362 - val_categorical_accuracy: 0.8750\n",
            "Epoch 23/25\n",
            "243/243 [==============================] - 110s 451ms/step - loss: 0.2676 - categorical_accuracy: 0.9192 - val_loss: 0.7073 - val_categorical_accuracy: 0.8769\n",
            "Epoch 24/25\n",
            "243/243 [==============================] - 109s 450ms/step - loss: 0.2527 - categorical_accuracy: 0.9241 - val_loss: 0.8023 - val_categorical_accuracy: 0.8699\n",
            "Epoch 25/25\n",
            "243/243 [==============================] - 110s 451ms/step - loss: 0.2446 - categorical_accuracy: 0.9275 - val_loss: 0.6223 - val_categorical_accuracy: 0.8940\n"
          ]
        }
      ],
      "source": [
        "history = participant_classifier.fit(x=x_train, y=y_train_participants, batch_size=64, epochs=25, validation_data = (x_val, y_val_participants))"
      ]
    },
    {
      "cell_type": "markdown",
      "metadata": {
        "id": "rB_gTcfTh0eE"
      },
      "source": [
        "Test Model"
      ]
    },
    {
      "cell_type": "code",
      "execution_count": 21,
      "metadata": {
        "colab": {
          "base_uri": "https://localhost:8080/"
        },
        "id": "SSh4vxYBsCJM",
        "outputId": "cf9f88b3-eb25-4623-9d3f-f86194447edd"
      },
      "outputs": [
        {
          "output_type": "stream",
          "name": "stdout",
          "text": [
            "243/243 [==============================] - 30s 123ms/step - loss: 0.2679 - categorical_accuracy: 0.9532\n",
            "Test Results \n",
            " Test Accuarcy:  0.9531893134117126 \n",
            " Test Loss:  0.26790931820869446\n"
          ]
        }
      ],
      "source": [
        "test_loss, test_acc = participant_classifier.evaluate(x_test, y_test_participants, batch_size= 64)\n",
        "print('Test Results', '\\n', 'Test Accuarcy: ',test_acc,'\\n', 'Test Loss: ', test_loss)"
      ]
    },
    {
      "cell_type": "markdown",
      "metadata": {
        "id": "HhonreaXh2k1"
      },
      "source": [
        "Visualize Performance"
      ]
    },
    {
      "cell_type": "code",
      "execution_count": 22,
      "metadata": {
        "colab": {
          "base_uri": "https://localhost:8080/",
          "height": 296
        },
        "id": "C0HBBu8WsFdj",
        "outputId": "12449cc8-57ff-4574-f446-d05c975b838c"
      },
      "outputs": [
        {
          "output_type": "display_data",
          "data": {
            "text/plain": [
              "<Figure size 432x288 with 1 Axes>"
            ],
            "image/png": "[encoded data removed]"
          },
          "metadata": {
            "needs_background": "light"
          }
        }
      ],
      "source": [
        "# Training vs Validation loss\n",
        "plt.plot(history.history['loss'])\n",
        "plt.plot(history.history['val_loss'])\n",
        "plt.title('Training vs Validation')\n",
        "plt.ylabel('Loss')\n",
        "plt.xlabel('Epoch')\n",
        "plt.legend(['train', 'validation'], loc='upper left')\n",
        "plt.show()"
      ]
    }
  ],
  "metadata": {
    "colab": {
      "collapsed_sections": [
        "kIuqvzUCXKTk",
        "5YQDEd_qXQ6h",
        "cWiwrF1gXUuR",
        "9eYygyZ5d4yU",
        "ln1pUSZPrplO"
      ],
      "provenance": [],
      "authorship_tag": "ABX9TyMCbimTHTsJIPZpfa//aXRz",
      "include_colab_link": true
    },
    "kernelspec": {
      "display_name": "Python 3",
      "name": "python3"
    },
    "language_info": {
      "name": "python"
    }
  },
  "nbformat": 4,
  "nbformat_minor": 0
}
